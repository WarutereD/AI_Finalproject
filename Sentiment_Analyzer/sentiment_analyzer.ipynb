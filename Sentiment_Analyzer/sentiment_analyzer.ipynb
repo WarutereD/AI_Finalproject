{
 "cells": [
  {
   "cell_type": "code",
   "execution_count": null,
   "metadata": {},
   "outputs": [],
   "source": [
    "import pandas as pd\n",
    "import numpy as np\n",
    "import re\n",
    "from nltk.corpus import stopwords\n",
    "from sklearn.model_selection import train_test_split\n",
    "from sklearn.feature_extraction.text import TfidfVectorizer\n",
    "from sklearn.svm import SVC\n",
    "from sklearn.metrics import accuracy_score\n",
    "from sklearn.metrics import precision_recall_fscore_support\n",
    "from textblob import TextBlob"
   ]
  },
  {
   "cell_type": "code",
   "execution_count": null,
   "metadata": {},
   "outputs": [],
   "source": []
  },
  {
   "cell_type": "code",
   "execution_count": null,
   "metadata": {},
   "outputs": [],
   "source": [
    "# Load the dataset\n",
    "df = pd.read_csv(\"/workspaces/Sentiment_Analyzer/Sentiment_Analyzer/dataset/swahili.csv\")\n",
    "\n",
    "# Text preprocessing\n",
    "stop_words = stopwords.words(\"english\")\n",
    "df[\"maneno\"] = df[\"maneno\"].apply(lambda x: \" \".join([word for word in re.sub('[^a-zA-Z0-9\\s]', '', x).split() if word not in stop_words]))"
   ]
  },
  {
   "cell_type": "code",
   "execution_count": null,
   "metadata": {},
   "outputs": [],
   "source": [
    "# Split dataset into training and testing sets\n",
    "X_train, X_test, y_train, y_test = train_test_split(df[\"maneno\"], df[\"lugha\"], test_size=0.3, random_state=42)\n"
   ]
  },
  {
   "cell_type": "code",
   "execution_count": null,
   "metadata": {},
   "outputs": [],
   "source": [
    "# Vectorize the text data using TF-IDF\n",
    "vectorizer = TfidfVectorizer()\n",
    "X_train_vec = vectorizer.fit_transform(X_train)\n",
    "X_test_vec = vectorizer.transform(X_test)"
   ]
  },
  {
   "cell_type": "code",
   "execution_count": null,
   "metadata": {},
   "outputs": [],
   "source": [
    "# Train an SVM classifier\n",
    "svm = SVC(kernel='linear', C=1.0)\n",
    "svm.fit(X_train_vec, y_train)"
   ]
  },
  {
   "cell_type": "code",
   "execution_count": null,
   "metadata": {},
   "outputs": [],
   "source": [
    "# Predict on the test set\n",
    "y_pred = svm.predict(X_test_vec)"
   ]
  },
  {
   "cell_type": "code",
   "execution_count": null,
   "metadata": {},
   "outputs": [],
   "source": [
    "# Calculate accuracy score\n",
    "acc = accuracy_score(y_test, y_pred)*100\n",
    "print(\"Accuracy:\", acc)"
   ]
  },
  {
   "cell_type": "code",
   "execution_count": null,
   "metadata": {},
   "outputs": [],
   "source": [
    "# Load the new data from a CSV file\n",
    "new_data = pd.read_csv(\"/workspaces/Sentiment_Analyzer/Sentiment_Analyzer/dataset/swahili_test.csv\")"
   ]
  },
  {
   "cell_type": "code",
   "execution_count": null,
   "metadata": {},
   "outputs": [],
   "source": [
    "# Preprocess the new data\n",
    "new_data[\"maneno\"] = new_data[\"maneno\"].apply(lambda x: \" \".join([word for word in re.sub('[^a-zA-Z0-9\\s]', '', x).split() if word not in stop_words]))\n"
   ]
  },
  {
   "cell_type": "code",
   "execution_count": null,
   "metadata": {},
   "outputs": [],
   "source": [
    "# Vectorize the new data\n",
    "new_data_vec = vectorizer.transform(new_data[\"maneno\"])\n",
    "\n",
    "# Predict the sentiment of the new data\n",
    "new_data[\"lugha\"] = svm.predict(new_data_vec)\n",
    "\n",
    "# Calculate the polarity scores of the test data and new data\n",
    "test_data_polarity = [TextBlob(text).sentiment.polarity for text in X_test]\n",
    "new_data_polarity = [TextBlob(text).sentiment.polarity for text in new_data[\"maneno\"]]"
   ]
  },
  {
   "cell_type": "code",
   "execution_count": null,
   "metadata": {},
   "outputs": [],
   "source": [
    "# Save the polarity scores to CSV files\n",
    "#X_test_df = pd.DataFrame(X_test)\n",
    "#test_data_polarity_df = pd.DataFrame(test_data_polarity, columns=[\"polarity\"])\n",
    "#test_data_polarity_df = pd.concat([X_test_df, test_data_polarity_df], axis=1)\n",
    "#test_data_polarity_df.to_csv(\"Sentiment_Analyzer/dataset/test_data_polarity.csv\", index=False)\n",
    "\n",
    "#new_data_polarity_df = pd.DataFrame(new_data[\"maneno\"], columns=[\"maneno\"])\n",
    "#new_data_polarity_df[\"polarity\"] = new_data_polarity\n",
    "#new_data_polarity_df.to_csv(\"Sentiment_Analyzer/dataset/new_data_polarity.csv\", index=False)"
   ]
  },
  {
   "cell_type": "code",
   "execution_count": null,
   "metadata": {},
   "outputs": [],
   "source": [
    "# Calculate the precision, recall, F1 score, and support for the test data and new data\n",
    "precision_test, recall_test, f1_score_test, support_test = precision_recall_fscore_support(y_test, y_pred, average='weighted')\n",
    "precision_new, recall_new, f1_score_new, support_new = precision_recall_fscore_support(new_data[\"lugha\"], new_data[\"lugha\"], average='weighted')\n"
   ]
  },
  {
   "cell_type": "code",
   "execution_count": null,
   "metadata": {},
   "outputs": [],
   "source": [
    "# Calculate the accuracy for the test data and new data\n",
    "accuracy_test = accuracy_score(y_test, y_pred)*100\n",
    "accuracy_new = accuracy_score(new_data[\"lugha\"], new_data[\"lugha\"])*100\n"
   ]
  },
  {
   "cell_type": "code",
   "execution_count": null,
   "metadata": {},
   "outputs": [],
   "source": [
    "# Print the accuracy, F1 score, precision, and recall for the test data and new data\n",
    "print(\"Test data:\")\n",
    "print(\"Accuracy:\", accuracy_test)\n",
    "print(\"F1 score:\", f1_score_test)\n",
    "print(\"Precision:\", precision_test)\n",
    "print(\"Recall:\", recall_test)\n",
    "\n",
    "print(\"New data:\")\n",
    "print(\"Accuracy:\", accuracy_new)\n",
    "print(\"F1 score:\", f1_score_new)\n",
    "print(\"Precision:\", precision_new)\n",
    "print(\"Recall:\", recall_new)"
   ]
  }
 ],
 "metadata": {
  "kernelspec": {
   "display_name": "Python 3",
   "language": "python",
   "name": "python3"
  },
  "language_info": {
   "codemirror_mode": {
    "name": "ipython",
    "version": 3
   },
   "file_extension": ".py",
   "mimetype": "text/x-python",
   "name": "python",
   "nbconvert_exporter": "python",
   "pygments_lexer": "ipython3",
   "version": "3.10.4"
  },
  "orig_nbformat": 4
 },
 "nbformat": 4,
 "nbformat_minor": 2
}
